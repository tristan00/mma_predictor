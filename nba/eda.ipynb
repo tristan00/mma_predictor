{
 "cells": [
  {
   "cell_type": "code",
   "execution_count": 1,
   "metadata": {},
   "outputs": [],
   "source": [
    "from scipy import stats\n",
    "import time\n",
    "# import requests\n",
    "from bs4 import BeautifulSoup\n",
    "import threading\n",
    "import pandas as pd\n",
    "import tqdm\n",
    "import lightgbm as lgb\n",
    "from sklearn.preprocessing import StandardScaler, PowerTransformer\n",
    "import numpy as np\n",
    "import random\n",
    "from sklearn.model_selection import train_test_split\n",
    "from sklearn.metrics import accuracy_score\n",
    "import pickle\n",
    "import sys\n",
    "\n",
    "   \n",
    "sys.path.append(r'C:\\Users\\TristanDelforge\\Documents\\repos\\sports_predictor')\n",
    "sys.path.append(r'C:\\Users\\TristanDelforge\\Documents\\repos\\sports_predictor\\nba')\n",
    "\n",
    "\n",
    "\n",
    "base_url = 'https://www.basketball-reference.com/'\n",
    "day_scores_base_url = 'https://www.basketball-reference.com/boxscores/?month={month}&day={day}&year={year}'\n",
    "data_path = r'/media/td/Samsung_T5/sports/nba'\n",
    "# data_path = r'C:\\Users\\TristanDelforge\\Documents\\sports_predictor\\nba'\n",
    "db_name = 'nba_db'\n",
    "box_score_link_table_name = 'boxscore_links'\n",
    "\n",
    "box_score_details_table_name = 'boxscore_details'\n",
    "processed_team_data_table_name = 'processed_team_data'\n",
    "player_detail_table_name = 'player_details'\n",
    "processed_player_data_table_name = 'processed_player_data'\n",
    "aggregated_player_data_table_name = 'aggregated_player_data'\n",
    "combined_feature_file_data_table_name = 'combined_feature_file'\n",
    "past_n_game_dataset_table_name = 'past_n_game_dataset'\n",
    "target = 'win'\n",
    "\n",
    "date_record_pickle_file_name = 'scraped_dates'\n",
    "box_score_record_pickle_file_name = 'scraped_games'\n",
    "max_tries = 5\n",
    "file_lock = threading.Lock()\n",
    "\n",
    "starting_rating = 1000\n",
    "rating_k_factor = 100\n",
    "rating_floor = 100\n",
    "rating_ceiling = 10000\n",
    "rating_d = 1000\n",
    "k_min_sensitivity = 1\n",
    "\n",
    "pd.set_option('display.max_rows', 500)\n",
    "pd.set_option('display.max_columns', 500)\n",
    "pd.set_option('display.width', 1000)\n"
   ]
  },
  {
   "cell_type": "code",
   "execution_count": 2,
   "metadata": {},
   "outputs": [],
   "source": [
    "from process_data import DataManager"
   ]
  },
  {
   "cell_type": "code",
   "execution_count": 3,
   "metadata": {},
   "outputs": [
    {
     "name": "stdout",
     "output_type": "stream",
     "text": [
      "function: 'create_feature_target_df' starting\n",
      "function: 'create_feature_target_df' finished in  0.00 seconds\n",
      "function: 'calculate_team_game_rating' starting\n"
     ]
    },
    {
     "name": "stderr",
     "output_type": "stream",
     "text": [
      "2000it [00:10, 185.95it/s]\n"
     ]
    },
    {
     "name": "stdout",
     "output_type": "stream",
     "text": [
      "function: 'calculate_team_game_rating' finished in  10.78 seconds\n",
      "function: 'calculate_team_game_rating' starting\n"
     ]
    },
    {
     "name": "stderr",
     "output_type": "stream",
     "text": [
      "2000it [00:10, 188.68it/s]\n"
     ]
    },
    {
     "name": "stdout",
     "output_type": "stream",
     "text": [
      "function: 'calculate_team_game_rating' finished in  10.62 seconds\n",
      "function: 'assign_date_since_last_game' starting\n",
      "function: 'assign_date_since_last_game' finished in  0.03 seconds\n",
      "function: 'assign_home_for_teams' starting\n",
      "function: 'find_team_home_loc' starting\n",
      "function: 'find_team_home_loc' finished in  0.43 seconds\n",
      "function: 'assign_home_for_teams' finished in  0.53 seconds\n",
      "function: 'build_moving_average_features' starting\n"
     ]
    },
    {
     "name": "stderr",
     "output_type": "stream",
     "text": [
      "  0%|                                                                                           | 0/30 [00:00<?, ?it/s]C:\\Users\\TristanDelforge\\Documents\\repos\\sports_predictor\\nba\\process_data.py:288: FutureWarning: Currently, 'apply' passes the values as ndarrays to the applied function. In the future, this will change to passing it as Series objects. You need to specify 'raw=True' to keep the current behaviour, and you can pass 'raw=False' to silence this warning\n",
      "  team_features.loc[team_features['team_tag'] == t, col_name2] = self.team_data[self.team_data['team_tag'] == t].shift(periods=1).rolling(window=n)[c].apply(get_slope)\n",
      "100%|██████████████████████████████████████████████████████████████████████████████████| 30/30 [00:31<00:00,  1.06s/it]\n"
     ]
    },
    {
     "name": "stdout",
     "output_type": "stream",
     "text": [
      "function: 'build_moving_average_features' finished in  31.87 seconds\n",
      "function: 'build_moving_average_features' starting\n"
     ]
    },
    {
     "name": "stderr",
     "output_type": "stream",
     "text": [
      "100%|██████████████████████████████████████████████████████████████████████████████████| 30/30 [00:39<00:00,  1.31s/it]\n"
     ]
    },
    {
     "name": "stdout",
     "output_type": "stream",
     "text": [
      "function: 'build_moving_average_features' finished in  39.38 seconds\n",
      "function: 'build_moving_average_features' starting\n"
     ]
    },
    {
     "name": "stderr",
     "output_type": "stream",
     "text": [
      "100%|██████████████████████████████████████████████████████████████████████████████████| 30/30 [00:29<00:00,  1.01it/s]\n"
     ]
    },
    {
     "name": "stdout",
     "output_type": "stream",
     "text": [
      "function: 'build_moving_average_features' finished in  29.67 seconds\n",
      "function: 'build_event_features' starting\n",
      "build_event_features start: 87270\n",
      "build_event_features end: 0\n",
      "function: 'build_event_features' finished in  24.81 seconds\n"
     ]
    }
   ],
   "source": [
    "dm = DataManager(testing = 2000)\n",
    "dm.update_raw_datasets()\n",
    "# dm.build_timeseries(4, False)\n",
    "# dm.combine_timeseries(4, False)\n"
   ]
  },
  {
   "cell_type": "code",
   "execution_count": 4,
   "metadata": {},
   "outputs": [
    {
     "name": "stdout",
     "output_type": "stream",
     "text": [
      "function: 'get_labeled_data' starting\n"
     ]
    },
    {
     "name": "stdout",
     "output_type": "stream",
     "text": [
      "self.feature_df columns: ['team_tag', 'opponent_tag', 'game_key', 'date_str', 'win', 'feature_team_pregame_rating_0', 'feature_team_pregame_rating_1', 'dow_0', 'dow_1', 'dow_2', 'dow_3', 'dow_4', 'dow_5', 'dow_6', 'year_2010', 'year_2011', 'month_1', 'month_2', 'month_3', 'month_11', 'month_12', 'days_since_last_match', 'feature_home', 'feature_team_rl_trend_ft_pct_3', 'feature_team_rl_avg_drb_pct_3', 'feature_team_rl_trend_ast_pct_3', 'feature_team_rl_avg_fg3_3', 'feature_team_rl_avg_mp_3', 'feature_team_rl_avg_fg_pct_3', 'feature_team_rl_trend_mp_3', 'feature_team_rl_trend_off_rtg_3', 'feature_team_rl_avg_ts_pct_3', 'feature_team_rl_trend_blk_pct_3', 'feature_team_rl_avg_blk_pct_3', 'feature_team_rl_trend_fg3a_3', 'feature_team_rl_trend_fg3_3', 'feature_team_rl_trend_efg_pct_3', 'feature_team_rl_avg_tov_pct_3', 'feature_team_rl_avg_blk_3', 'feature_team_rl_trend_blk_3', 'feature_team_rl_avg_ft_pct_3', 'feature_team_rl_avg_ast_pct_3', 'feature_team_rl_avg_orb_pct_3', 'feature_team_rl_trend_pts_3', 'feature_team_rl_avg_def_rtg_3', 'feature_team_rl_avg_fga_3', 'feature_team_rl_avg_ft_3', 'feature_team_rl_avg_fta_per_fga_pct_3', 'feature_team_rl_trend_trb_3', 'feature_team_rl_trend_trb_pct_3', 'feature_team_rl_avg_tov_3', 'feature_team_rl_avg_plus_minus_3', 'feature_team_rl_trend_usg_pct_3', 'feature_team_rl_avg_stl_pct_3', 'feature_team_rl_trend_fg_pct_3', 'feature_team_rl_avg_stl_3', 'feature_team_rl_avg_fg3_pct_3', 'feature_team_rl_trend_orb_3', 'feature_team_rl_trend_fga_3', 'feature_team_rl_trend_ft_3', 'feature_team_rl_trend_tov_pct_3', 'feature_team_rl_avg_pf_3', 'feature_team_rl_avg_ast_3', 'feature_team_rl_trend_plus_minus_3', 'feature_team_rl_avg_trb_pct_3', 'feature_team_rl_trend_fta_per_fga_pct_3', 'feature_team_rl_trend_fta_3', 'feature_team_rl_avg_off_rtg_3', 'feature_team_rl_avg_drb_3', 'feature_team_rl_trend_stl_3', 'feature_team_rl_trend_tov_3', 'feature_team_rl_avg_usg_pct_3', 'feature_team_rl_trend_orb_pct_3', 'feature_team_rl_trend_ts_pct_3', 'feature_team_rl_trend_stl_pct_3', 'feature_team_rl_trend_drb_pct_3', 'feature_team_rl_avg_orb_3', 'feature_team_rl_avg_fg3a_per_fga_pct_3', 'feature_team_rl_trend_fg_3', 'feature_team_rl_avg_efg_pct_3', 'feature_team_rl_trend_fg3a_per_fga_pct_3', 'feature_team_rl_trend_pf_3', 'feature_team_rl_avg_fg3a_3', 'feature_team_rl_trend_drb_3', 'feature_team_rl_avg_trb_3', 'feature_team_rl_avg_pts_3', 'feature_team_rl_trend_fg3_pct_3', 'feature_team_rl_avg_fta_3', 'feature_team_rl_trend_ast_3', 'feature_team_rl_trend_def_rtg_3', 'feature_team_rl_avg_fg_3', 'feature_team_rl_trend_blk_pct_10', 'feature_team_rl_trend_efg_pct_10', 'feature_team_rl_trend_fg_10', 'feature_team_rl_avg_ft_pct_10', 'feature_team_rl_trend_ast_10', 'feature_team_rl_avg_ft_10', 'feature_team_rl_avg_fta_10', 'feature_team_rl_avg_fta_per_fga_pct_10', 'feature_team_rl_trend_def_rtg_10', 'feature_team_rl_trend_trb_10', 'feature_team_rl_avg_fg3a_10', 'feature_team_rl_trend_fga_10', 'feature_team_rl_trend_orb_10', 'feature_team_rl_trend_ast_pct_10', 'feature_team_rl_trend_blk_10', 'feature_team_rl_avg_fg3_pct_10', 'feature_team_rl_trend_tov_10', 'feature_team_rl_avg_drb_pct_10', 'feature_team_rl_trend_fg3a_10', 'feature_team_rl_avg_blk_10', 'feature_team_rl_trend_tov_pct_10', 'feature_team_rl_avg_blk_pct_10', 'feature_team_rl_trend_orb_pct_10', 'feature_team_rl_avg_ts_pct_10', 'feature_team_rl_trend_drb_10', 'feature_team_rl_avg_efg_pct_10', 'feature_team_rl_trend_plus_minus_10', 'feature_team_rl_trend_ft_pct_10', 'feature_team_rl_avg_stl_10', 'feature_team_rl_avg_fg_10', 'feature_team_rl_trend_fta_10', 'feature_team_rl_trend_fg3a_per_fga_pct_10', 'feature_team_rl_avg_fg3_10', 'feature_team_rl_avg_pts_10', 'feature_team_rl_avg_fg3a_per_fga_pct_10', 'feature_team_rl_avg_plus_minus_10', 'feature_team_rl_avg_trb_pct_10', 'feature_team_rl_trend_trb_pct_10', 'feature_team_rl_trend_fta_per_fga_pct_10', 'feature_team_rl_avg_tov_pct_10', 'feature_team_rl_trend_pts_10', 'feature_team_rl_trend_off_rtg_10', 'feature_team_rl_avg_pf_10', 'feature_team_rl_avg_usg_pct_10', 'feature_team_rl_avg_def_rtg_10', 'feature_team_rl_avg_fga_10', 'feature_team_rl_trend_stl_10', 'feature_team_rl_avg_ast_10', 'feature_team_rl_avg_orb_10', 'feature_team_rl_trend_ft_10', 'feature_team_rl_trend_mp_10', 'feature_team_rl_trend_usg_pct_10', 'feature_team_rl_trend_fg3_pct_10', 'feature_team_rl_avg_fg_pct_10', 'feature_team_rl_trend_fg_pct_10', 'feature_team_rl_trend_pf_10', 'feature_team_rl_avg_drb_10', 'feature_team_rl_avg_trb_10', 'feature_team_rl_avg_tov_10', 'feature_team_rl_trend_drb_pct_10', 'feature_team_rl_avg_mp_10', 'feature_team_rl_trend_ts_pct_10', 'feature_team_rl_trend_fg3_10', 'feature_team_rl_avg_orb_pct_10', 'feature_team_rl_avg_stl_pct_10', 'feature_team_rl_avg_ast_pct_10', 'feature_team_rl_avg_off_rtg_10', 'feature_team_rl_trend_stl_pct_10', 'feature_team_rl_trend_trb_pct_25', 'feature_team_rl_trend_efg_pct_25', 'feature_team_rl_avg_ft_25', 'feature_team_rl_avg_orb_pct_25', 'feature_team_rl_avg_efg_pct_25', 'feature_team_rl_avg_fta_per_fga_pct_25', 'feature_team_rl_trend_tov_25', 'feature_team_rl_trend_mp_25', 'feature_team_rl_avg_off_rtg_25', 'feature_team_rl_avg_ft_pct_25', 'feature_team_rl_trend_fga_25', 'feature_team_rl_trend_fg_25', 'feature_team_rl_avg_stl_25', 'feature_team_rl_trend_tov_pct_25', 'feature_team_rl_avg_trb_pct_25', 'feature_team_rl_trend_ts_pct_25', 'feature_team_rl_avg_drb_25', 'feature_team_rl_avg_fga_25', 'feature_team_rl_trend_pts_25', 'feature_team_rl_trend_plus_minus_25', 'feature_team_rl_avg_stl_pct_25', 'feature_team_rl_avg_ts_pct_25', 'feature_team_rl_avg_fg3a_per_fga_pct_25', 'feature_team_rl_avg_mp_25', 'feature_team_rl_trend_blk_25', 'feature_team_rl_avg_blk_pct_25', 'feature_team_rl_avg_fg3_25', 'feature_team_rl_trend_ast_25', 'feature_team_rl_trend_drb_pct_25', 'feature_team_rl_trend_pf_25', 'feature_team_rl_avg_fg3_pct_25', 'feature_team_rl_trend_stl_pct_25', 'feature_team_rl_avg_tov_25', 'feature_team_rl_avg_orb_25', 'feature_team_rl_avg_trb_25', 'feature_team_rl_trend_fg3a_25', 'feature_team_rl_avg_ast_25', 'feature_team_rl_trend_fg_pct_25', 'feature_team_rl_trend_orb_pct_25', 'feature_team_rl_avg_def_rtg_25', 'feature_team_rl_avg_fg3a_25', 'feature_team_rl_trend_fg3a_per_fga_pct_25', 'feature_team_rl_trend_stl_25', 'feature_team_rl_trend_blk_pct_25', 'feature_team_rl_trend_trb_25', 'feature_team_rl_trend_ft_pct_25', 'feature_team_rl_avg_fg_25', 'feature_team_rl_trend_drb_25', 'feature_team_rl_trend_ft_25', 'feature_team_rl_avg_drb_pct_25', 'feature_team_rl_trend_fta_25', 'feature_team_rl_avg_pts_25', 'feature_team_rl_trend_ast_pct_25', 'feature_team_rl_avg_blk_25', 'feature_team_rl_avg_ast_pct_25', 'feature_team_rl_avg_pf_25', 'feature_team_rl_avg_usg_pct_25', 'feature_team_rl_avg_fg_pct_25', 'feature_team_rl_trend_off_rtg_25', 'feature_team_rl_trend_orb_25', 'feature_team_rl_trend_fg3_25', 'feature_team_rl_trend_usg_pct_25', 'feature_team_rl_avg_tov_pct_25', 'feature_team_rl_trend_fg3_pct_25', 'feature_team_rl_avg_fta_25', 'feature_team_rl_avg_plus_minus_25', 'feature_team_rl_trend_def_rtg_25', 'feature_team_rl_trend_fta_per_fga_pct_25', 'days_since_last_match_diff', 'feature_team_pregame_rating_0_diff', 'feature_team_pregame_rating_1_diff', 'feature_team_rl_avg_ast_10_diff', 'feature_team_rl_avg_ast_25_diff', 'feature_team_rl_avg_ast_3_diff', 'feature_team_rl_avg_ast_pct_10_diff', 'feature_team_rl_avg_ast_pct_25_diff', 'feature_team_rl_avg_ast_pct_3_diff', 'feature_team_rl_avg_blk_10_diff', 'feature_team_rl_avg_blk_25_diff', 'feature_team_rl_avg_blk_3_diff', 'feature_team_rl_avg_blk_pct_10_diff', 'feature_team_rl_avg_blk_pct_25_diff', 'feature_team_rl_avg_blk_pct_3_diff', 'feature_team_rl_avg_def_rtg_10_diff', 'feature_team_rl_avg_def_rtg_25_diff', 'feature_team_rl_avg_def_rtg_3_diff', 'feature_team_rl_avg_drb_10_diff', 'feature_team_rl_avg_drb_25_diff', 'feature_team_rl_avg_drb_3_diff', 'feature_team_rl_avg_drb_pct_10_diff', 'feature_team_rl_avg_drb_pct_25_diff', 'feature_team_rl_avg_drb_pct_3_diff', 'feature_team_rl_avg_efg_pct_10_diff', 'feature_team_rl_avg_efg_pct_25_diff', 'feature_team_rl_avg_efg_pct_3_diff', 'feature_team_rl_avg_fg3_10_diff', 'feature_team_rl_avg_fg3_25_diff', 'feature_team_rl_avg_fg3_3_diff', 'feature_team_rl_avg_fg3_pct_10_diff', 'feature_team_rl_avg_fg3_pct_25_diff', 'feature_team_rl_avg_fg3_pct_3_diff', 'feature_team_rl_avg_fg3a_10_diff', 'feature_team_rl_avg_fg3a_25_diff', 'feature_team_rl_avg_fg3a_3_diff', 'feature_team_rl_avg_fg3a_per_fga_pct_10_diff', 'feature_team_rl_avg_fg3a_per_fga_pct_25_diff', 'feature_team_rl_avg_fg3a_per_fga_pct_3_diff', 'feature_team_rl_avg_fg_10_diff', 'feature_team_rl_avg_fg_25_diff', 'feature_team_rl_avg_fg_3_diff', 'feature_team_rl_avg_fg_pct_10_diff', 'feature_team_rl_avg_fg_pct_25_diff', 'feature_team_rl_avg_fg_pct_3_diff', 'feature_team_rl_avg_fga_10_diff', 'feature_team_rl_avg_fga_25_diff', 'feature_team_rl_avg_fga_3_diff', 'feature_team_rl_avg_ft_10_diff', 'feature_team_rl_avg_ft_25_diff', 'feature_team_rl_avg_ft_3_diff', 'feature_team_rl_avg_ft_pct_10_diff', 'feature_team_rl_avg_ft_pct_25_diff', 'feature_team_rl_avg_ft_pct_3_diff', 'feature_team_rl_avg_fta_10_diff', 'feature_team_rl_avg_fta_25_diff', 'feature_team_rl_avg_fta_3_diff', 'feature_team_rl_avg_fta_per_fga_pct_10_diff', 'feature_team_rl_avg_fta_per_fga_pct_25_diff', 'feature_team_rl_avg_fta_per_fga_pct_3_diff', 'feature_team_rl_avg_mp_10_diff', 'feature_team_rl_avg_mp_25_diff', 'feature_team_rl_avg_mp_3_diff', 'feature_team_rl_avg_off_rtg_10_diff', 'feature_team_rl_avg_off_rtg_25_diff', 'feature_team_rl_avg_off_rtg_3_diff', 'feature_team_rl_avg_orb_10_diff', 'feature_team_rl_avg_orb_25_diff', 'feature_team_rl_avg_orb_3_diff', 'feature_team_rl_avg_orb_pct_10_diff', 'feature_team_rl_avg_orb_pct_25_diff', 'feature_team_rl_avg_orb_pct_3_diff', 'feature_team_rl_avg_pf_10_diff', 'feature_team_rl_avg_pf_25_diff', 'feature_team_rl_avg_pf_3_diff', 'feature_team_rl_avg_plus_minus_10_diff', 'feature_team_rl_avg_plus_minus_25_diff', 'feature_team_rl_avg_plus_minus_3_diff', 'feature_team_rl_avg_pts_10_diff', 'feature_team_rl_avg_pts_25_diff', 'feature_team_rl_avg_pts_3_diff', 'feature_team_rl_avg_stl_10_diff', 'feature_team_rl_avg_stl_25_diff', 'feature_team_rl_avg_stl_3_diff', 'feature_team_rl_avg_stl_pct_10_diff', 'feature_team_rl_avg_stl_pct_25_diff', 'feature_team_rl_avg_stl_pct_3_diff', 'feature_team_rl_avg_tov_10_diff', 'feature_team_rl_avg_tov_25_diff', 'feature_team_rl_avg_tov_3_diff', 'feature_team_rl_avg_tov_pct_10_diff', 'feature_team_rl_avg_tov_pct_25_diff', 'feature_team_rl_avg_tov_pct_3_diff', 'feature_team_rl_avg_trb_10_diff', 'feature_team_rl_avg_trb_25_diff', 'feature_team_rl_avg_trb_3_diff', 'feature_team_rl_avg_trb_pct_10_diff', 'feature_team_rl_avg_trb_pct_25_diff', 'feature_team_rl_avg_trb_pct_3_diff', 'feature_team_rl_avg_ts_pct_10_diff', 'feature_team_rl_avg_ts_pct_25_diff', 'feature_team_rl_avg_ts_pct_3_diff', 'feature_team_rl_avg_usg_pct_10_diff', 'feature_team_rl_avg_usg_pct_25_diff', 'feature_team_rl_avg_usg_pct_3_diff', 'feature_team_rl_trend_ast_10_diff', 'feature_team_rl_trend_ast_25_diff', 'feature_team_rl_trend_ast_3_diff', 'feature_team_rl_trend_ast_pct_10_diff', 'feature_team_rl_trend_ast_pct_25_diff', 'feature_team_rl_trend_ast_pct_3_diff', 'feature_team_rl_trend_blk_10_diff', 'feature_team_rl_trend_blk_25_diff', 'feature_team_rl_trend_blk_3_diff', 'feature_team_rl_trend_blk_pct_10_diff', 'feature_team_rl_trend_blk_pct_25_diff', 'feature_team_rl_trend_blk_pct_3_diff', 'feature_team_rl_trend_def_rtg_10_diff', 'feature_team_rl_trend_def_rtg_25_diff', 'feature_team_rl_trend_def_rtg_3_diff', 'feature_team_rl_trend_drb_10_diff', 'feature_team_rl_trend_drb_25_diff', 'feature_team_rl_trend_drb_3_diff', 'feature_team_rl_trend_drb_pct_10_diff', 'feature_team_rl_trend_drb_pct_25_diff', 'feature_team_rl_trend_drb_pct_3_diff', 'feature_team_rl_trend_efg_pct_10_diff', 'feature_team_rl_trend_efg_pct_25_diff', 'feature_team_rl_trend_efg_pct_3_diff', 'feature_team_rl_trend_fg3_10_diff', 'feature_team_rl_trend_fg3_25_diff', 'feature_team_rl_trend_fg3_3_diff', 'feature_team_rl_trend_fg3_pct_10_diff', 'feature_team_rl_trend_fg3_pct_25_diff', 'feature_team_rl_trend_fg3_pct_3_diff', 'feature_team_rl_trend_fg3a_10_diff', 'feature_team_rl_trend_fg3a_25_diff', 'feature_team_rl_trend_fg3a_3_diff', 'feature_team_rl_trend_fg3a_per_fga_pct_10_diff', 'feature_team_rl_trend_fg3a_per_fga_pct_25_diff', 'feature_team_rl_trend_fg3a_per_fga_pct_3_diff', 'feature_team_rl_trend_fg_10_diff', 'feature_team_rl_trend_fg_25_diff', 'feature_team_rl_trend_fg_3_diff', 'feature_team_rl_trend_fg_pct_10_diff', 'feature_team_rl_trend_fg_pct_25_diff', 'feature_team_rl_trend_fg_pct_3_diff', 'feature_team_rl_trend_fga_10_diff', 'feature_team_rl_trend_fga_25_diff', 'feature_team_rl_trend_fga_3_diff', 'feature_team_rl_trend_ft_10_diff', 'feature_team_rl_trend_ft_25_diff', 'feature_team_rl_trend_ft_3_diff', 'feature_team_rl_trend_ft_pct_10_diff', 'feature_team_rl_trend_ft_pct_25_diff', 'feature_team_rl_trend_ft_pct_3_diff', 'feature_team_rl_trend_fta_10_diff', 'feature_team_rl_trend_fta_25_diff', 'feature_team_rl_trend_fta_3_diff', 'feature_team_rl_trend_fta_per_fga_pct_10_diff', 'feature_team_rl_trend_fta_per_fga_pct_25_diff', 'feature_team_rl_trend_fta_per_fga_pct_3_diff', 'feature_team_rl_trend_mp_10_diff', 'feature_team_rl_trend_mp_25_diff', 'feature_team_rl_trend_mp_3_diff', 'feature_team_rl_trend_off_rtg_10_diff', 'feature_team_rl_trend_off_rtg_25_diff', 'feature_team_rl_trend_off_rtg_3_diff', 'feature_team_rl_trend_orb_10_diff', 'feature_team_rl_trend_orb_25_diff', 'feature_team_rl_trend_orb_3_diff', 'feature_team_rl_trend_orb_pct_10_diff', 'feature_team_rl_trend_orb_pct_25_diff', 'feature_team_rl_trend_orb_pct_3_diff', 'feature_team_rl_trend_pf_10_diff', 'feature_team_rl_trend_pf_25_diff', 'feature_team_rl_trend_pf_3_diff', 'feature_team_rl_trend_plus_minus_10_diff', 'feature_team_rl_trend_plus_minus_25_diff', 'feature_team_rl_trend_plus_minus_3_diff', 'feature_team_rl_trend_pts_10_diff', 'feature_team_rl_trend_pts_25_diff', 'feature_team_rl_trend_pts_3_diff', 'feature_team_rl_trend_stl_10_diff', 'feature_team_rl_trend_stl_25_diff', 'feature_team_rl_trend_stl_3_diff', 'feature_team_rl_trend_stl_pct_10_diff', 'feature_team_rl_trend_stl_pct_25_diff', 'feature_team_rl_trend_stl_pct_3_diff', 'feature_team_rl_trend_tov_10_diff', 'feature_team_rl_trend_tov_25_diff', 'feature_team_rl_trend_tov_3_diff', 'feature_team_rl_trend_tov_pct_10_diff', 'feature_team_rl_trend_tov_pct_25_diff', 'feature_team_rl_trend_tov_pct_3_diff', 'feature_team_rl_trend_trb_10_diff', 'feature_team_rl_trend_trb_25_diff', 'feature_team_rl_trend_trb_3_diff', 'feature_team_rl_trend_trb_pct_10_diff', 'feature_team_rl_trend_trb_pct_25_diff', 'feature_team_rl_trend_trb_pct_3_diff', 'feature_team_rl_trend_ts_pct_10_diff', 'feature_team_rl_trend_ts_pct_25_diff', 'feature_team_rl_trend_ts_pct_3_diff', 'feature_team_rl_trend_usg_pct_10_diff', 'feature_team_rl_trend_usg_pct_25_diff', 'feature_team_rl_trend_usg_pct_3_diff']\n"
     ]
    },
    {
     "name": "stdout",
     "output_type": "stream",
     "text": [
      "function: 'get_labeled_data' finished in  0.26 seconds\n",
      "(0,) (0,) (0,) 429\n"
     ]
    }
   ],
   "source": [
    "x1, x2, y, cols = dm.get_labeled_data(4, False, False)\n",
    "print(x1.shape, x2.shape, y.shape, len(cols))"
   ]
  },
  {
   "cell_type": "code",
   "execution_count": 5,
   "metadata": {},
   "outputs": [
    {
     "data": {
      "text/plain": [
       "0"
      ]
     },
     "execution_count": 5,
     "metadata": {},
     "output_type": "execute_result"
    }
   ],
   "source": [
    "np.isnan(x1).astype(int).sum()"
   ]
  },
  {
   "cell_type": "code",
   "execution_count": null,
   "metadata": {},
   "outputs": [],
   "source": []
  },
  {
   "cell_type": "code",
   "execution_count": 6,
   "metadata": {},
   "outputs": [
    {
     "ename": "ValueError",
     "evalue": "Empty data passed with indices specified.",
     "output_type": "error",
     "traceback": [
      "\u001b[1;31m---------------------------------------------------------------------------\u001b[0m",
      "\u001b[1;31mValueError\u001b[0m                                Traceback (most recent call last)",
      "\u001b[1;32m~\\Anaconda3\\envs\\jupyter_env\\lib\\site-packages\\pandas\\core\\internals\\managers.py\u001b[0m in \u001b[0;36mcreate_block_manager_from_blocks\u001b[1;34m(blocks, axes)\u001b[0m\n\u001b[0;32m   1677\u001b[0m                 blocks = [\n\u001b[1;32m-> 1678\u001b[1;33m                     \u001b[0mmake_block\u001b[0m\u001b[1;33m(\u001b[0m\u001b[0mvalues\u001b[0m\u001b[1;33m=\u001b[0m\u001b[0mblocks\u001b[0m\u001b[1;33m[\u001b[0m\u001b[1;36m0\u001b[0m\u001b[1;33m]\u001b[0m\u001b[1;33m,\u001b[0m \u001b[0mplacement\u001b[0m\u001b[1;33m=\u001b[0m\u001b[0mslice\u001b[0m\u001b[1;33m(\u001b[0m\u001b[1;36m0\u001b[0m\u001b[1;33m,\u001b[0m \u001b[0mlen\u001b[0m\u001b[1;33m(\u001b[0m\u001b[0maxes\u001b[0m\u001b[1;33m[\u001b[0m\u001b[1;36m0\u001b[0m\u001b[1;33m]\u001b[0m\u001b[1;33m)\u001b[0m\u001b[1;33m)\u001b[0m\u001b[1;33m)\u001b[0m\u001b[1;33m\u001b[0m\u001b[1;33m\u001b[0m\u001b[0m\n\u001b[0m\u001b[0;32m   1679\u001b[0m                 ]\n",
      "\u001b[1;32m~\\Anaconda3\\envs\\jupyter_env\\lib\\site-packages\\pandas\\core\\internals\\blocks.py\u001b[0m in \u001b[0;36mmake_block\u001b[1;34m(values, placement, klass, ndim, dtype, fastpath)\u001b[0m\n\u001b[0;32m   3283\u001b[0m \u001b[1;33m\u001b[0m\u001b[0m\n\u001b[1;32m-> 3284\u001b[1;33m     \u001b[1;32mreturn\u001b[0m \u001b[0mklass\u001b[0m\u001b[1;33m(\u001b[0m\u001b[0mvalues\u001b[0m\u001b[1;33m,\u001b[0m \u001b[0mndim\u001b[0m\u001b[1;33m=\u001b[0m\u001b[0mndim\u001b[0m\u001b[1;33m,\u001b[0m \u001b[0mplacement\u001b[0m\u001b[1;33m=\u001b[0m\u001b[0mplacement\u001b[0m\u001b[1;33m)\u001b[0m\u001b[1;33m\u001b[0m\u001b[1;33m\u001b[0m\u001b[0m\n\u001b[0m\u001b[0;32m   3285\u001b[0m \u001b[1;33m\u001b[0m\u001b[0m\n",
      "\u001b[1;32m~\\Anaconda3\\envs\\jupyter_env\\lib\\site-packages\\pandas\\core\\internals\\blocks.py\u001b[0m in \u001b[0;36m__init__\u001b[1;34m(self, values, placement, ndim)\u001b[0m\n\u001b[0;32m    127\u001b[0m                 \u001b[1;34m\"Wrong number of items passed {val}, placement implies \"\u001b[0m\u001b[1;33m\u001b[0m\u001b[1;33m\u001b[0m\u001b[0m\n\u001b[1;32m--> 128\u001b[1;33m                 \u001b[1;34m\"{mgr}\"\u001b[0m\u001b[1;33m.\u001b[0m\u001b[0mformat\u001b[0m\u001b[1;33m(\u001b[0m\u001b[0mval\u001b[0m\u001b[1;33m=\u001b[0m\u001b[0mlen\u001b[0m\u001b[1;33m(\u001b[0m\u001b[0mself\u001b[0m\u001b[1;33m.\u001b[0m\u001b[0mvalues\u001b[0m\u001b[1;33m)\u001b[0m\u001b[1;33m,\u001b[0m \u001b[0mmgr\u001b[0m\u001b[1;33m=\u001b[0m\u001b[0mlen\u001b[0m\u001b[1;33m(\u001b[0m\u001b[0mself\u001b[0m\u001b[1;33m.\u001b[0m\u001b[0mmgr_locs\u001b[0m\u001b[1;33m)\u001b[0m\u001b[1;33m)\u001b[0m\u001b[1;33m\u001b[0m\u001b[1;33m\u001b[0m\u001b[0m\n\u001b[0m\u001b[0;32m    129\u001b[0m             )\n",
      "\u001b[1;31mValueError\u001b[0m: Wrong number of items passed 1, placement implies 429",
      "\nDuring handling of the above exception, another exception occurred:\n",
      "\u001b[1;31mValueError\u001b[0m                                Traceback (most recent call last)",
      "\u001b[1;32m<ipython-input-6-7c74d805616b>\u001b[0m in \u001b[0;36m<module>\u001b[1;34m\u001b[0m\n\u001b[0;32m      1\u001b[0m x2_df = pd.DataFrame(data=x2,\n\u001b[1;32m----> 2\u001b[1;33m                     columns = cols)\n\u001b[0m\u001b[0;32m      3\u001b[0m \u001b[0mx2_df\u001b[0m\u001b[1;33m.\u001b[0m\u001b[0misna\u001b[0m\u001b[1;33m(\u001b[0m\u001b[1;33m)\u001b[0m\u001b[1;33m.\u001b[0m\u001b[0msum\u001b[0m\u001b[1;33m(\u001b[0m\u001b[1;33m)\u001b[0m\u001b[1;33m.\u001b[0m\u001b[0msum\u001b[0m\u001b[1;33m(\u001b[0m\u001b[1;33m)\u001b[0m\u001b[1;33m\u001b[0m\u001b[1;33m\u001b[0m\u001b[0m\n",
      "\u001b[1;32m~\\Anaconda3\\envs\\jupyter_env\\lib\\site-packages\\pandas\\core\\frame.py\u001b[0m in \u001b[0;36m__init__\u001b[1;34m(self, data, index, columns, dtype, copy)\u001b[0m\n\u001b[0;32m    438\u001b[0m                 \u001b[0mmgr\u001b[0m \u001b[1;33m=\u001b[0m \u001b[0minit_dict\u001b[0m\u001b[1;33m(\u001b[0m\u001b[1;33m{\u001b[0m\u001b[0mdata\u001b[0m\u001b[1;33m.\u001b[0m\u001b[0mname\u001b[0m\u001b[1;33m:\u001b[0m \u001b[0mdata\u001b[0m\u001b[1;33m}\u001b[0m\u001b[1;33m,\u001b[0m \u001b[0mindex\u001b[0m\u001b[1;33m,\u001b[0m \u001b[0mcolumns\u001b[0m\u001b[1;33m,\u001b[0m \u001b[0mdtype\u001b[0m\u001b[1;33m=\u001b[0m\u001b[0mdtype\u001b[0m\u001b[1;33m)\u001b[0m\u001b[1;33m\u001b[0m\u001b[1;33m\u001b[0m\u001b[0m\n\u001b[0;32m    439\u001b[0m             \u001b[1;32melse\u001b[0m\u001b[1;33m:\u001b[0m\u001b[1;33m\u001b[0m\u001b[1;33m\u001b[0m\u001b[0m\n\u001b[1;32m--> 440\u001b[1;33m                 \u001b[0mmgr\u001b[0m \u001b[1;33m=\u001b[0m \u001b[0minit_ndarray\u001b[0m\u001b[1;33m(\u001b[0m\u001b[0mdata\u001b[0m\u001b[1;33m,\u001b[0m \u001b[0mindex\u001b[0m\u001b[1;33m,\u001b[0m \u001b[0mcolumns\u001b[0m\u001b[1;33m,\u001b[0m \u001b[0mdtype\u001b[0m\u001b[1;33m=\u001b[0m\u001b[0mdtype\u001b[0m\u001b[1;33m,\u001b[0m \u001b[0mcopy\u001b[0m\u001b[1;33m=\u001b[0m\u001b[0mcopy\u001b[0m\u001b[1;33m)\u001b[0m\u001b[1;33m\u001b[0m\u001b[1;33m\u001b[0m\u001b[0m\n\u001b[0m\u001b[0;32m    441\u001b[0m \u001b[1;33m\u001b[0m\u001b[0m\n\u001b[0;32m    442\u001b[0m         \u001b[1;31m# For data is list-like, or Iterable (will consume into list)\u001b[0m\u001b[1;33m\u001b[0m\u001b[1;33m\u001b[0m\u001b[1;33m\u001b[0m\u001b[0m\n",
      "\u001b[1;32m~\\Anaconda3\\envs\\jupyter_env\\lib\\site-packages\\pandas\\core\\internals\\construction.py\u001b[0m in \u001b[0;36minit_ndarray\u001b[1;34m(values, index, columns, dtype, copy)\u001b[0m\n\u001b[0;32m    211\u001b[0m         \u001b[0mblock_values\u001b[0m \u001b[1;33m=\u001b[0m \u001b[1;33m[\u001b[0m\u001b[0mvalues\u001b[0m\u001b[1;33m]\u001b[0m\u001b[1;33m\u001b[0m\u001b[1;33m\u001b[0m\u001b[0m\n\u001b[0;32m    212\u001b[0m \u001b[1;33m\u001b[0m\u001b[0m\n\u001b[1;32m--> 213\u001b[1;33m     \u001b[1;32mreturn\u001b[0m \u001b[0mcreate_block_manager_from_blocks\u001b[0m\u001b[1;33m(\u001b[0m\u001b[0mblock_values\u001b[0m\u001b[1;33m,\u001b[0m \u001b[1;33m[\u001b[0m\u001b[0mcolumns\u001b[0m\u001b[1;33m,\u001b[0m \u001b[0mindex\u001b[0m\u001b[1;33m]\u001b[0m\u001b[1;33m)\u001b[0m\u001b[1;33m\u001b[0m\u001b[1;33m\u001b[0m\u001b[0m\n\u001b[0m\u001b[0;32m    214\u001b[0m \u001b[1;33m\u001b[0m\u001b[0m\n\u001b[0;32m    215\u001b[0m \u001b[1;33m\u001b[0m\u001b[0m\n",
      "\u001b[1;32m~\\Anaconda3\\envs\\jupyter_env\\lib\\site-packages\\pandas\\core\\internals\\managers.py\u001b[0m in \u001b[0;36mcreate_block_manager_from_blocks\u001b[1;34m(blocks, axes)\u001b[0m\n\u001b[0;32m   1686\u001b[0m         \u001b[0mblocks\u001b[0m \u001b[1;33m=\u001b[0m \u001b[1;33m[\u001b[0m\u001b[0mgetattr\u001b[0m\u001b[1;33m(\u001b[0m\u001b[0mb\u001b[0m\u001b[1;33m,\u001b[0m \u001b[1;34m\"values\"\u001b[0m\u001b[1;33m,\u001b[0m \u001b[0mb\u001b[0m\u001b[1;33m)\u001b[0m \u001b[1;32mfor\u001b[0m \u001b[0mb\u001b[0m \u001b[1;32min\u001b[0m \u001b[0mblocks\u001b[0m\u001b[1;33m]\u001b[0m\u001b[1;33m\u001b[0m\u001b[1;33m\u001b[0m\u001b[0m\n\u001b[0;32m   1687\u001b[0m         \u001b[0mtot_items\u001b[0m \u001b[1;33m=\u001b[0m \u001b[0msum\u001b[0m\u001b[1;33m(\u001b[0m\u001b[0mb\u001b[0m\u001b[1;33m.\u001b[0m\u001b[0mshape\u001b[0m\u001b[1;33m[\u001b[0m\u001b[1;36m0\u001b[0m\u001b[1;33m]\u001b[0m \u001b[1;32mfor\u001b[0m \u001b[0mb\u001b[0m \u001b[1;32min\u001b[0m \u001b[0mblocks\u001b[0m\u001b[1;33m)\u001b[0m\u001b[1;33m\u001b[0m\u001b[1;33m\u001b[0m\u001b[0m\n\u001b[1;32m-> 1688\u001b[1;33m         \u001b[0mconstruction_error\u001b[0m\u001b[1;33m(\u001b[0m\u001b[0mtot_items\u001b[0m\u001b[1;33m,\u001b[0m \u001b[0mblocks\u001b[0m\u001b[1;33m[\u001b[0m\u001b[1;36m0\u001b[0m\u001b[1;33m]\u001b[0m\u001b[1;33m.\u001b[0m\u001b[0mshape\u001b[0m\u001b[1;33m[\u001b[0m\u001b[1;36m1\u001b[0m\u001b[1;33m:\u001b[0m\u001b[1;33m]\u001b[0m\u001b[1;33m,\u001b[0m \u001b[0maxes\u001b[0m\u001b[1;33m,\u001b[0m \u001b[0me\u001b[0m\u001b[1;33m)\u001b[0m\u001b[1;33m\u001b[0m\u001b[1;33m\u001b[0m\u001b[0m\n\u001b[0m\u001b[0;32m   1689\u001b[0m \u001b[1;33m\u001b[0m\u001b[0m\n\u001b[0;32m   1690\u001b[0m \u001b[1;33m\u001b[0m\u001b[0m\n",
      "\u001b[1;32m~\\Anaconda3\\envs\\jupyter_env\\lib\\site-packages\\pandas\\core\\internals\\managers.py\u001b[0m in \u001b[0;36mconstruction_error\u001b[1;34m(tot_items, block_shape, axes, e)\u001b[0m\n\u001b[0;32m   1715\u001b[0m         \u001b[1;32mraise\u001b[0m \u001b[0me\u001b[0m\u001b[1;33m\u001b[0m\u001b[1;33m\u001b[0m\u001b[0m\n\u001b[0;32m   1716\u001b[0m     \u001b[1;32mif\u001b[0m \u001b[0mblock_shape\u001b[0m\u001b[1;33m[\u001b[0m\u001b[1;36m0\u001b[0m\u001b[1;33m]\u001b[0m \u001b[1;33m==\u001b[0m \u001b[1;36m0\u001b[0m\u001b[1;33m:\u001b[0m\u001b[1;33m\u001b[0m\u001b[1;33m\u001b[0m\u001b[0m\n\u001b[1;32m-> 1717\u001b[1;33m         \u001b[1;32mraise\u001b[0m \u001b[0mValueError\u001b[0m\u001b[1;33m(\u001b[0m\u001b[1;34m\"Empty data passed with indices specified.\"\u001b[0m\u001b[1;33m)\u001b[0m\u001b[1;33m\u001b[0m\u001b[1;33m\u001b[0m\u001b[0m\n\u001b[0m\u001b[0;32m   1718\u001b[0m     raise ValueError(\n\u001b[0;32m   1719\u001b[0m         \u001b[1;34m\"Shape of passed values is {0}, indices imply {1}\"\u001b[0m\u001b[1;33m.\u001b[0m\u001b[0mformat\u001b[0m\u001b[1;33m(\u001b[0m\u001b[0mpassed\u001b[0m\u001b[1;33m,\u001b[0m \u001b[0mimplied\u001b[0m\u001b[1;33m)\u001b[0m\u001b[1;33m\u001b[0m\u001b[1;33m\u001b[0m\u001b[0m\n",
      "\u001b[1;31mValueError\u001b[0m: Empty data passed with indices specified."
     ]
    }
   ],
   "source": [
    "x2_df = pd.DataFrame(data=x2,\n",
    "                    columns = cols)\n",
    "x2_df.isna().sum().sum()"
   ]
  },
  {
   "cell_type": "code",
   "execution_count": null,
   "metadata": {},
   "outputs": [],
   "source": [
    "x2_df.head(10)"
   ]
  },
  {
   "cell_type": "code",
   "execution_count": null,
   "metadata": {},
   "outputs": [],
   "source": [
    "team_data = pd.read_csv('{data_path}/{db_name}.csv'.format(data_path=data_path,db_name=box_score_details_table_name),sep='|', low_memory=False)\n",
    "player_data = pd.read_csv('{data_path}/{db_name}.csv'.format(data_path=data_path,db_name=player_detail_table_name), sep='|', low_memory=False)\n",
    "\n",
    "team_data.shape, player_data.shape"
   ]
  },
  {
   "cell_type": "code",
   "execution_count": null,
   "metadata": {},
   "outputs": [],
   "source": [
    "team_data.head()"
   ]
  },
  {
   "cell_type": "code",
   "execution_count": null,
   "metadata": {},
   "outputs": [],
   "source": [
    "player_data.head()"
   ]
  },
  {
   "cell_type": "markdown",
   "metadata": {},
   "source": [
    "- Negatively correlated with win\n",
    "- High stat def rating is highly correlated with losing (.51). Teams under pressure don't win that game.\n",
    "- Personal fouls also correlated with losing (.13)\n",
    "- Turnovers - (investigate, not intuitive)\n",
    "- "
   ]
  },
  {
   "cell_type": "code",
   "execution_count": null,
   "metadata": {},
   "outputs": [],
   "source": [
    "team_data_corr = team_data.corr()\n",
    "team_data_corr = team_data_corr[(team_data_corr['win'] > .2)|(team_data_corr['win'] < -.08)]\n",
    "team_data_corr.sort_values('win')[['win']]"
   ]
  },
  {
   "cell_type": "code",
   "execution_count": null,
   "metadata": {},
   "outputs": [],
   "source": [
    "player_data_corr = player_data.corr()\n",
    "player_data_corr = player_data_corr[(player_data_corr['win'] > .05)|(player_data_corr['win'] < -.05)]\n",
    "player_data_corr.sort_values('win')[['win']]"
   ]
  },
  {
   "cell_type": "code",
   "execution_count": null,
   "metadata": {},
   "outputs": [],
   "source": []
  },
  {
   "cell_type": "code",
   "execution_count": null,
   "metadata": {},
   "outputs": [],
   "source": [
    "\n",
    "past_n_game_obj = None\n",
    "with open('{data_path}/{db_name}.pkl'.format(data_path=data_path,\n",
    "                                                             db_name='past_n_game_dataset_32_False'), 'rb') as f:\n",
    "    past_n_game_dataset = pickle.load(f)\n",
    "past_n_game_dataset.keys()\n"
   ]
  },
  {
   "cell_type": "code",
   "execution_count": null,
   "metadata": {},
   "outputs": [],
   "source": [
    "team_data[(team_data['team_tag'] == 'pho')&(team_data['month'] == 12)&(team_data['year'] == 2017)][['month', 'day', 'ast']].head(20)"
   ]
  },
  {
   "cell_type": "code",
   "execution_count": null,
   "metadata": {},
   "outputs": [],
   "source": [
    "initial_team_data_columns = ['ast', 'ast_pct', 'blk', 'blk_pct', 'def_rtg', 'drb', 'drb_pct', 'efg_pct',\n",
    "                                          'fg', 'fg3', 'fg3_pct', 'fg3a', 'fg3a_per_fga_pct', 'fg_pct', 'fga', 'ft',\n",
    "                                          'ft_pct',\n",
    "                                          'fta', 'fta_per_fga_pct', 'mp', 'off_rtg', 'orb', 'orb_pct', 'pf',\n",
    "                                          'plus_minus', 'pts', 'stl', 'stl_pct', 'tov', 'tov_pct', 'trb', 'trb_pct',\n",
    "                                          'ts_pct',\n",
    "                                          'usg_pct', 'home', 'r1', 'r2', 'r3', 'r4']\n",
    "\n",
    "pd.DataFrame(data=past_n_game_dataset['pho'][\"['2017-12-31', 'phi', 'pho']\"])\n"
   ]
  },
  {
   "cell_type": "code",
   "execution_count": null,
   "metadata": {},
   "outputs": [],
   "source": []
  },
  {
   "cell_type": "code",
   "execution_count": null,
   "metadata": {},
   "outputs": [],
   "source": [
    "results = pd.read_csv(f'{data_path}/nn_architectures.csv')\n",
    "results.sort_values('accuracy', ascending = False).head(10)\n"
   ]
  },
  {
   "cell_type": "code",
   "execution_count": null,
   "metadata": {},
   "outputs": [],
   "source": [
    "results.shape"
   ]
  },
  {
   "cell_type": "code",
   "execution_count": null,
   "metadata": {},
   "outputs": [],
   "source": [
    "results = pd.read_csv(f'{data_path}/nn_architectures.csv')\n",
    "results.sort_values('accuracy', ascending = False).head(10)"
   ]
  },
  {
   "cell_type": "code",
   "execution_count": null,
   "metadata": {},
   "outputs": [],
   "source": [
    "results = pd.read_csv(f'{data_path}/nn_architectures.csv')\n",
    "results[results['history_lengths'] == 4].sort_values('accuracy', ascending = False).head(20)"
   ]
  },
  {
   "cell_type": "code",
   "execution_count": null,
   "metadata": {},
   "outputs": [],
   "source": [
    "results = pd.read_csv(f'{data_path}/nn_architectures.csv')\n",
    "results[results['history_lengths'] == 8].sort_values('accuracy', ascending = False).head(20)"
   ]
  },
  {
   "cell_type": "code",
   "execution_count": null,
   "metadata": {},
   "outputs": [],
   "source": [
    "results = pd.read_csv(f'{data_path}/nn_architectures.csv')\n",
    "results[results['history_lengths'] == 16].sort_values('accuracy', ascending = False).head(20)"
   ]
  },
  {
   "cell_type": "code",
   "execution_count": null,
   "metadata": {},
   "outputs": [],
   "source": [
    "results = pd.read_csv(f'{data_path}/nn_architectures.csv')\n",
    "results[results['history_lengths'] == 32].sort_values('accuracy', ascending = False).head(20)"
   ]
  },
  {
   "cell_type": "code",
   "execution_count": null,
   "metadata": {},
   "outputs": [],
   "source": []
  },
  {
   "cell_type": "code",
   "execution_count": null,
   "metadata": {},
   "outputs": [],
   "source": []
  }
 ],
 "metadata": {
  "kernelspec": {
   "display_name": "Python 3",
   "language": "python",
   "name": "python3"
  },
  "language_info": {
   "codemirror_mode": {
    "name": "ipython",
    "version": 3
   },
   "file_extension": ".py",
   "mimetype": "text/x-python",
   "name": "python",
   "nbconvert_exporter": "python",
   "pygments_lexer": "ipython3",
   "version": "3.6.7"
  }
 },
 "nbformat": 4,
 "nbformat_minor": 2
}
