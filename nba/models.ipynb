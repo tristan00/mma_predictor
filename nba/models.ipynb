{
 "cells": [
  {
   "cell_type": "code",
   "execution_count": null,
   "metadata": {},
   "outputs": [],
   "source": [
    "import sys\n",
    "sys.path.append('/home/td/Documents/sports_predictor/nba')\n",
    "sys.path.append('/home/td/Documents/sports_predictor')\n",
    "\n",
    "import pandas as pd\n",
    "import lightgbm\n",
    "import pandas\n",
    "from sklearn import metrics, model_selection\n",
    "from nba.common import (\n",
    "    timeit,\n",
    ")\n",
    "import numpy as np\n",
    "from nba.data_pipeline import load_general_feature_file\n",
    "from scipy import stats\n",
    "import copy\n",
    "\n",
    "pd.set_option('display.max_rows', 500)\n",
    "pd.set_option('display.max_columns', 500)\n",
    "pd.set_option('display.width', 1000)\n",
    "pd.set_option('display.max_colwidth', 1000)\n"
   ]
  },
  {
   "cell_type": "code",
   "execution_count": null,
   "metadata": {},
   "outputs": [],
   "source": [
    "cols_to_drop = []"
   ]
  },
  {
   "cell_type": "code",
   "execution_count": null,
   "metadata": {},
   "outputs": [],
   "source": [
    "\n",
    "class Model():\n",
    "\n",
    "    def __init__(self, model_type, model_params, max_iter = 10000, early_stopping_rounds = 100):\n",
    "        self.model_type = model_type\n",
    "        self.model_params = model_params\n",
    "        self.transformers_dict = dict()\n",
    "        self.lightgbm_early_stopping_rounds = early_stopping_rounds\n",
    "        self.lightgbm_max_iter = max_iter\n",
    "\n",
    "    @timeit\n",
    "    def fit(self, x, y):\n",
    "        print('entered fit, x shape: {}'.format(x.shape))\n",
    "        self.transformers_dict = dict()\n",
    "        self.columns = x.columns\n",
    "\n",
    "        if self.model_type == 'lightgbm':\n",
    "            x_train, x_val, y_train, y_val = model_selection.train_test_split(x, y)\n",
    "            lgtrain = lightgbm.Dataset(x_train, y_train)\n",
    "            lgvalid = lightgbm.Dataset(x_val, y_val)\n",
    "\n",
    "            self.model = lightgbm.train(\n",
    "                self.model_params,\n",
    "                lgtrain,\n",
    "                num_boost_round=self.lightgbm_max_iter,\n",
    "                valid_sets=[lgtrain, lgvalid],\n",
    "                valid_names=['train', 'valid'],\n",
    "                early_stopping_rounds=self.lightgbm_early_stopping_rounds,\n",
    "                verbose_eval=100\n",
    "            )\n",
    "\n",
    "    @timeit\n",
    "    def predict(self, x):\n",
    "        if self.model_type == 'lightgbm':\n",
    "            return self.model.predict(x, num_iteration=self.model.best_iteration)\n",
    "            \n",
    "\n",
    "    def evaluate(self):\n",
    "        if self.model_type == 'lightgbm':\n",
    "            output = []\n",
    "\n",
    "            for i, j in zip(self.columns, self.model.feature_importance('gain', iteration=self.model.best_iteration)):\n",
    "                output.append({'column': i, 'feature_importance': j})\n",
    "            return pd.DataFrame.from_dict(output).sort_values('feature_importance', ascending=False)\n",
    "        "
   ]
  },
  {
   "cell_type": "code",
   "execution_count": null,
   "metadata": {},
   "outputs": [],
   "source": [
    "\n",
    "def gbm_rfe(x, y, lgbm_params, step_size=.01, min_features=8, score_type = 'accuracy'):\n",
    "    features = [i for i in x.columns.tolist() if i not in cols_to_drop]\n",
    "    x_train, x_val, y_train, y_val = model_selection.train_test_split(x, y)\n",
    "    feature_result_dict = dict()\n",
    "   \n",
    "    while len(features) > min_features:\n",
    "        next_step_num_of_features = max(int(len(features)*(1-step_size)), min_features)\n",
    "        model = Model('lightgbm', lgbm_params, early_stopping_rounds= 10)\n",
    "        model.fit(x_train[features], y_train)\n",
    "        \n",
    "        preds_train = model.predict(x_train[features])\n",
    "        preds_train = np.rint(preds_train).astype(int)\n",
    "                \n",
    "        preds_val = model.predict(x_val[features])\n",
    "        preds_val = np.rint(preds_val).astype(int)\n",
    "        \n",
    "        if score_type == 'accuracy':\n",
    "            feature_result_dict[tuple(features)] = metrics.accuracy_score(y_val, preds_val)\n",
    "        if score_type == 'r2_score':\n",
    "            feature_result_dict[tuple(features)] = metrics.r2_score(y_val, preds_val) \n",
    "        importances = model.evaluate().sort_values('feature_importance', ascending = False)\n",
    "        print(len(features), metrics.accuracy_score(y_train, preds_train), metrics.accuracy_score(y_val, preds_val))\n",
    "        importances = importances[importances['feature_importance'] > 0]\n",
    "\n",
    "        features = importances['column'].tolist()[:next_step_num_of_features]\n",
    "       \n",
    "    features_selected = None\n",
    "    max_score = 0\n",
    "    for k, v in feature_result_dict.items():\n",
    "        if v > max_score:\n",
    "            features_selected = list(k)\n",
    "            max_score = v\n",
    "    return features_selected\n"
   ]
  },
  {
   "cell_type": "code",
   "execution_count": null,
   "metadata": {},
   "outputs": [],
   "source": [
    "\n",
    "def select_linear_features(x_train_glm, y_train, max_feature_corr):\n",
    "    selected_cols_to_normal_target = set()\n",
    "    feature_target_corr = []\n",
    "    for i in x_train_glm.columns:\n",
    "        # if 'accident_table' not in i and i not in cols_to_drop:\n",
    "        if i not in cols_to_drop:\n",
    "            slope, intercept, r_value, p_value, std_err = stats.linregress(x_train_glm[i], y_train)\n",
    "            feature_target_corr.append((i, abs(r_value)))\n",
    "    feature_target_corr = sorted(feature_target_corr, key = lambda x: x[1], reverse = True)\n",
    "    selected_cols_to_normal_target.add(feature_target_corr[0][0])\n",
    "    for i in feature_target_corr:\n",
    "        too_correlated_to_features = False\n",
    "        for j in selected_cols_to_normal_target:\n",
    "            slope, intercept, r_value, p_value, std_err = stats.linregress(x_train_glm[i[0]], x_train_glm[j])\n",
    "            if abs(r_value) > max_feature_corr:\n",
    "                too_correlated_to_features = True\n",
    "        if not too_correlated_to_features:\n",
    "            selected_cols_to_normal_target.add(i[0])\n",
    "\n",
    "    selected_cols_to_normal_target = list(selected_cols_to_normal_target)\n",
    "    return selected_cols_to_normal_target\n"
   ]
  },
  {
   "cell_type": "code",
   "execution_count": null,
   "metadata": {},
   "outputs": [],
   "source": [
    "feature_df = load_general_feature_file()\n",
    "x = feature_df.drop(['win', 'score_diff', 'key'], axis = 1)\n",
    "y1 = feature_df['win']\n",
    "y2 = feature_df['score_diff']"
   ]
  },
  {
   "cell_type": "code",
   "execution_count": null,
   "metadata": {},
   "outputs": [],
   "source": [
    "lgbm_params = {\n",
    "    'boosting_type': 'gbdt',\n",
    "    'objective': 'binary',\n",
    "    'metric': 'binary_error',\n",
    "    \"learning_rate\": 0.01,\n",
    "    \"max_depth\": -1,\n",
    "    'num_leaves': 127\n",
    "}\n",
    "\n",
    "lgbm_params_fast = copy.deepcopy(lgbm_params)\n",
    "lgbm_params_fast['learning_rate'] = .1\n",
    "\n",
    "\n",
    "model = Model('lightgbm', lgbm_params)\n",
    "x_train, x_test, y_train, y_test = model_selection.train_test_split(x, y1)\n"
   ]
  },
  {
   "cell_type": "code",
   "execution_count": null,
   "metadata": {},
   "outputs": [],
   "source": [
    "classification_columns = gbm_rfe(x_train, y_train, lgbm_params_fast, step_size=.01, min_features=4, score_type = 'accuracy')\n",
    "x_train.shape, len(classification_columns)\n"
   ]
  },
  {
   "cell_type": "code",
   "execution_count": null,
   "metadata": {},
   "outputs": [],
   "source": [
    "model.fit(x_train[classification_columns], y_train)\n",
    "preds = model.predict(x_test[classification_columns])\n",
    "preds = np.rint(preds).astype(int)     \n",
    "metrics.accuracy_score(y_test, preds)"
   ]
  },
  {
   "cell_type": "code",
   "execution_count": null,
   "metadata": {},
   "outputs": [],
   "source": [
    "model.evaluate().head(100)"
   ]
  },
  {
   "cell_type": "code",
   "execution_count": null,
   "metadata": {},
   "outputs": [],
   "source": []
  },
  {
   "cell_type": "code",
   "execution_count": null,
   "metadata": {},
   "outputs": [],
   "source": [
    "lgbm_params = {\n",
    "    'boosting_type': 'gbdt',\n",
    "    'objective': 'l2',\n",
    "    'metric': 'mae',\n",
    "    \"learning_rate\": 0.01,\n",
    "    \"max_depth\": -1,\n",
    "    'num_leaves': 127,\n",
    "}\n",
    "\n",
    "lgbm_params_fast = copy.deepcopy(lgbm_params)\n",
    "lgbm_params_fast['learning_rate'] = .1\n",
    "\n",
    "model = Model('lightgbm', lgbm_params)\n",
    "x_train, x_test, y_train, y_test = model_selection.train_test_split(x, y2)\n"
   ]
  },
  {
   "cell_type": "code",
   "execution_count": null,
   "metadata": {},
   "outputs": [],
   "source": [
    "reg_columns = gbm_rfe(x_train, y_train, lgbm_params_fast, step_size=.01, min_features=4, score_type = 'r2_score')\n",
    "x_train.shape, len(reg_columns)"
   ]
  },
  {
   "cell_type": "code",
   "execution_count": null,
   "metadata": {},
   "outputs": [],
   "source": [
    "model.fit(x_train, y_train)\n",
    "preds = model.predict(x_test)\n",
    "preds = np.rint(preds).astype(int)     \n",
    "metrics.r2_score(y_test, preds)"
   ]
  },
  {
   "cell_type": "code",
   "execution_count": null,
   "metadata": {},
   "outputs": [],
   "source": [
    "model.evaluate().head(100)"
   ]
  },
  {
   "cell_type": "code",
   "execution_count": null,
   "metadata": {},
   "outputs": [],
   "source": []
  },
  {
   "cell_type": "code",
   "execution_count": null,
   "metadata": {},
   "outputs": [],
   "source": []
  }
 ],
 "metadata": {
  "kernelspec": {
   "display_name": "Python 3",
   "language": "python",
   "name": "python3"
  },
  "language_info": {
   "codemirror_mode": {
    "name": "ipython",
    "version": 3
   },
   "file_extension": ".py",
   "mimetype": "text/x-python",
   "name": "python",
   "nbconvert_exporter": "python",
   "pygments_lexer": "ipython3",
   "version": "3.7.4"
  }
 },
 "nbformat": 4,
 "nbformat_minor": 2
}
